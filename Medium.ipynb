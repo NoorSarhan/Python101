{
 "cells": [
  {
   "cell_type": "markdown",
   "id": "45f73096-67be-4c34-98e7-38d822fe2674",
   "metadata": {},
   "source": [
    "### Exercise 1"
   ]
  },
  {
   "cell_type": "markdown",
   "id": "4d4e37af-a2fb-4aa4-8bfe-d963eaa6bf0c",
   "metadata": {},
   "source": [
    "Write a Python program to find three numbers from an array such that the sum of three numbers equal to zero. Input : [-1,0,1,2,-1,-4] Output : [[-1, -1, 2], [-1, 0, 1]] Note : Find the unique triplets in the array.\n",
    "\n"
   ]
  },
  {
   "cell_type": "code",
   "execution_count": 4,
   "id": "e6ad5237-a01e-4705-908b-ef37e61c9649",
   "metadata": {},
   "outputs": [
    {
     "name": "stdout",
     "output_type": "stream",
     "text": [
      "The result of the first lst : [[-1, -1, 2], [-1, 0, 1]]\n",
      "The result of the second lst : []\n"
     ]
    }
   ],
   "source": [
    "def three_sum(nums):\n",
    "    nums.sort()\n",
    "    res = []\n",
    "    n = len(nums)\n",
    "\n",
    "    for i in range(n - 2):\n",
    "        if i > 0 and nums[i] == nums[i - 1]:\n",
    "            continue  # to skip repeated numbers \n",
    "\n",
    "        target = -nums[i]\n",
    "        left, right = i + 1, n - 1\n",
    "\n",
    "        while left < right:\n",
    "            s = nums[left] + nums[right]\n",
    "            if s == target:\n",
    "                res.append([nums[i], nums[left], nums[right]])\n",
    "\n",
    "                lv, rv = nums[left], nums[right]\n",
    "                while left < right and nums[left] == lv:   left += 1\n",
    "                while left < right and nums[right] == rv:  right -= 1\n",
    "\n",
    "            elif s < target:\n",
    "                left += 1\n",
    "            else:\n",
    "                right -= 1\n",
    "    return res\n",
    "    \n",
    "nums=[-1,0,1,2,-1,-4] \n",
    "nums2=[-2,10,1,3,4,-3,-6]\n",
    "print(\"The result of the first lst :\",three_sum(nums))\n",
    "print(\"The result of the second lst :\",three_sum(nums2))"
   ]
  },
  {
   "cell_type": "markdown",
   "id": "7fa38589-7664-4ec1-80cc-9741b4cadc26",
   "metadata": {},
   "source": [
    "### Exercise 2"
   ]
  },
  {
   "cell_type": "markdown",
   "id": "0603a1e5-7dc2-4857-b837-daf4ebea0344",
   "metadata": {},
   "source": [
    "Build a simple text analyzer. Problem: Write a function count_words(text) that:\n",
    "\n",
    "* Accepts a paragraph of text\n",
    "* Returns a dictionary where keys are words and values are how many times they appeared (case-insensitive)\n",
    "* Example input: | text = \"AI is the future. The future is now.\"\n",
    "\n",
    "* Expected Output: {'ai': 1, 'is': 2, 'the': 2, 'future': 2, 'now.': 1}"
   ]
  },
  {
   "cell_type": "code",
   "execution_count": 5,
   "id": "7571d429-56a2-4633-88fd-7822fb2e36b5",
   "metadata": {},
   "outputs": [
    {
     "name": "stdout",
     "output_type": "stream",
     "text": [
      "{'ai': 1, 'is': 2, 'the': 2, 'future': 2, 'now': 1}\n"
     ]
    }
   ],
   "source": [
    "def count_words(text):\n",
    "    text = text.lower()\n",
    "\n",
    "    punct = \",.!?;:\\\"'()[]{}-_*/\\\\\"\n",
    "    for ch in punct:\n",
    "        text = text.replace(ch, \"\")\n",
    "\n",
    "    words = text.split()\n",
    "\n",
    "    result = {}\n",
    "    for w in words:\n",
    "        if w in result:\n",
    "            result[w] = result[w] + 1\n",
    "        else:\n",
    "            result[w] = 1\n",
    "\n",
    "    return result\n",
    "\n",
    "text = \"AI is the future. The FUTURE is now.\"\n",
    "print(count_words(text))"
   ]
  },
  {
   "cell_type": "markdown",
   "id": "7e043d01-e768-448e-b83c-9f8112bbc36f",
   "metadata": {},
   "source": [
    "### Exercise 3"
   ]
  },
  {
   "cell_type": "markdown",
   "id": "a6877e5c-1134-4f79-8935-a94b3088b385",
   "metadata": {},
   "source": [
    "| Practice object-oriented programming, attributes, and methods. Build a basic system to manage books in a library.\n",
    "\n",
    "🧠 Requirements:\n",
    "\n",
    "Create a Book class with:\n",
    "Attributes: title, author, year, is_checked_out (default = False)\n",
    "Method: checkout() → sets is_checked_out = True\n",
    "Method: return_book() → sets is_checked_out = False\n",
    "Method: str() → returns a string like: \"1984 by George Orwell (Checked out: False)\"\n",
    "Create a Library class with:\n",
    "Attribute: a list called collection to store books\n",
    "Method: add_book(book) → adds to collection\n",
    "Method: list_books() → prints all book titles and status\n",
    "Method: find_book(title) → returns a matching book (case-insensitive)\n",
    "Example Usage\n",
    "\n",
    "b1 = Book(\"1984\", \"George Orwell\", 1949)\n",
    "b2 = Book(\"The Alchemist\", \"Paulo Coelho\", 1988)\n",
    "\n",
    "lib = Library()\n",
    "lib.add_book(b1)\n",
    "lib.add_book(b2)\n",
    "\n",
    "lib.list_books()\n",
    "\n",
    "b1.checkout()\n",
    "lib.list_books()\n",
    "\n",
    "found = lib.find_book(\"1984\")\n",
    "print(found)\n",
    "🚀 Bonus Challenge:\n",
    "\n",
    "Add a method available_books() in the Library class to list only books that are not checked out."
   ]
  },
  {
   "cell_type": "code",
   "execution_count": 6,
   "id": "aa374043-b5b2-4567-82b5-9e0a05e08444",
   "metadata": {},
   "outputs": [
    {
     "name": "stdout",
     "output_type": "stream",
     "text": [
      "1984 by George Orwell (Checked out: False)\n",
      "The Alchemist by Paulo Coelho (Checked out: False)\n",
      "---- checkout b1 ----\n",
      "1984 by George Orwell (Checked out: True)\n",
      "The Alchemist by Paulo Coelho (Checked out: False)\n",
      "Found: 1984 by George Orwell (Checked out: True)\n",
      "---- available books ----\n",
      "The Alchemist by Paulo Coelho (Checked out: False)\n"
     ]
    }
   ],
   "source": [
    "class Book:\n",
    "    def __init__(self, title, author, year, is_checked_out=False):\n",
    "        self.title = title\n",
    "        self.author = author\n",
    "        self.year = year\n",
    "        self.is_checked_out = is_checked_out\n",
    "\n",
    "    def checkout(self):\n",
    "        self.is_checked_out = True\n",
    "\n",
    "    def return_book(self):\n",
    "        self.is_checked_out = False\n",
    "\n",
    "    def __str__(self):\n",
    "        return f\"{self.title} by {self.author} (Checked out: {self.is_checked_out})\"\n",
    "\n",
    "\n",
    "class Library:\n",
    "    def __init__(self):\n",
    "        self.collection = []\n",
    "\n",
    "    def add_book(self, book):\n",
    "        self.collection.append(book)\n",
    "\n",
    "    def list_books(self):\n",
    "        if not self.collection:\n",
    "            print(\"No books in the library.\")\n",
    "            return\n",
    "        for b in self.collection:\n",
    "            print(str(b))\n",
    "\n",
    "    def find_book(self, title):\n",
    "        t = title.lower()\n",
    "        for b in self.collection:\n",
    "            if b.title.lower() == t:\n",
    "                return b\n",
    "        return None\n",
    "\n",
    "    # Bonus\n",
    "    def available_books(self):\n",
    "        return [b for b in self.collection if not b.is_checked_out]\n",
    "\n",
    "\n",
    "# Example Usage\n",
    "b1 = Book(\"1984\", \"George Orwell\", 1949)\n",
    "b2 = Book(\"The Alchemist\", \"Paulo Coelho\", 1988)\n",
    "\n",
    "lib = Library()\n",
    "lib.add_book(b1)\n",
    "lib.add_book(b2)\n",
    "\n",
    "lib.list_books()\n",
    "print(\"---- checkout b1 ----\")\n",
    "b1.checkout()\n",
    "lib.list_books()\n",
    "\n",
    "found = lib.find_book(\"1984\")\n",
    "print(\"Found:\", found)\n",
    "\n",
    "print(\"---- available books ----\")\n",
    "for b in lib.available_books():\n",
    "    print(b)\n"
   ]
  },
  {
   "cell_type": "code",
   "execution_count": null,
   "id": "4b536105-32f8-4b00-b4a8-02549eca89a2",
   "metadata": {},
   "outputs": [],
   "source": []
  }
 ],
 "metadata": {
  "kernelspec": {
   "display_name": "Python 3 (ipykernel)",
   "language": "python",
   "name": "python3"
  },
  "language_info": {
   "codemirror_mode": {
    "name": "ipython",
    "version": 3
   },
   "file_extension": ".py",
   "mimetype": "text/x-python",
   "name": "python",
   "nbconvert_exporter": "python",
   "pygments_lexer": "ipython3",
   "version": "3.13.5"
  }
 },
 "nbformat": 4,
 "nbformat_minor": 5
}
