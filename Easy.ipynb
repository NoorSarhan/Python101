{
 "cells": [
  {
   "cell_type": "markdown",
   "id": "e0587a6e-ee7f-471c-a101-250e12544813",
   "metadata": {},
   "source": [
    "### Exercise 1"
   ]
  },
  {
   "cell_type": "markdown",
   "id": "04ba85b2-c7a2-43ff-bcc7-1482b78712b7",
   "metadata": {},
   "source": [
    "Write a python program that:\n",
    "\n",
    "* Asks the user about their name\n",
    "* Save it in a variable called \"name\"\n",
    "* Asks the user about their age\n",
    "* Save it in a variable called \"age\"\n",
    "* Print a string stating \"The user -name- is -age- years old\""
   ]
  },
  {
   "cell_type": "code",
   "execution_count": 2,
   "id": "97cb64f1-5f6c-4b64-92b8-78b51853962e",
   "metadata": {},
   "outputs": [
    {
     "name": "stdin",
     "output_type": "stream",
     "text": [
      "Enter your name Noor\n",
      "Enter your age 37\n"
     ]
    },
    {
     "name": "stdout",
     "output_type": "stream",
     "text": [
      "The user Noor is 37 years old\n"
     ]
    }
   ],
   "source": [
    "name= input(\"Enter your name\")\n",
    "age = input(\"Enter your age\")\n",
    "print (f\"The user {name} is {age} years old\")"
   ]
  },
  {
   "cell_type": "markdown",
   "id": "15cdf281-4068-4ada-8f69-a2a5046d43b0",
   "metadata": {},
   "source": [
    "### Exercise 2"
   ]
  },
  {
   "cell_type": "markdown",
   "id": "00719e5d-ab10-4d8b-a824-a109b5a7c24c",
   "metadata": {},
   "source": [
    "Ask the user for a number. Depending on whether the number is even or odd, print out an appropriate message to the user. Hint: how does an even / odd number react differently when divided by 2?\n",
    "\n",
    "Extras:\n",
    "\n",
    "If the number is a multiple of 4, print out a different message. Ask the user for two numbers: one number to check (call it num) and one number to divide by (check). If check divides evenly into num, tell that to the user. If not, print a different appropriate message."
   ]
  },
  {
   "cell_type": "code",
   "execution_count": 3,
   "id": "8391a6c8-7197-4dff-8e86-a6da0ee55ee0",
   "metadata": {},
   "outputs": [
    {
     "name": "stdin",
     "output_type": "stream",
     "text": [
      "Enter a number 10\n"
     ]
    },
    {
     "name": "stdout",
     "output_type": "stream",
     "text": [
      "10 is even\n"
     ]
    }
   ],
   "source": [
    "num=int(input(\"Enter a number\"))\n",
    "\n",
    "if num%2==0:\n",
    "    print(f\"{num} is even\")\n",
    "else:\n",
    "    print(f\"{num} is odd\")\n"
   ]
  },
  {
   "cell_type": "code",
   "execution_count": 5,
   "id": "8dde0f88-351e-4895-94ee-e76cb54c3ada",
   "metadata": {},
   "outputs": [
    {
     "name": "stdin",
     "output_type": "stream",
     "text": [
      "Enter a number to check 24\n",
      "Enter a number to divide  4\n"
     ]
    },
    {
     "name": "stdout",
     "output_type": "stream",
     "text": [
      "24 is a multiple of 4\n"
     ]
    }
   ],
   "source": [
    "num=int(input(\"Enter a number to check\"))\n",
    "check=int(input(\"Enter a number to divide \"))\n",
    "\n",
    "if num % check==0:\n",
    "    print(f\"{num} is a multiple of {check}\")\n",
    "else:\n",
    "    print(f\"{num} is not a multiple of {check}\")\n"
   ]
  },
  {
   "cell_type": "markdown",
   "id": "245d6245-26d7-4338-ba1d-60bd9737b712",
   "metadata": {},
   "source": [
    "### Exercise 3"
   ]
  },
  {
   "cell_type": "markdown",
   "id": "afaa1656-3562-4862-b235-d267f21a6f76",
   "metadata": {},
   "source": [
    "Write a program that takes a list of numbers (for example, a = [5, 10, 15, 20, 25]) and makes a new list of only the first and last elements of the given list. For practice, write this code inside a function.\n"
   ]
  },
  {
   "cell_type": "code",
   "execution_count": 8,
   "id": "f777e01e-669c-4d69-9990-2858ad308242",
   "metadata": {},
   "outputs": [
    {
     "name": "stdout",
     "output_type": "stream",
     "text": [
      "The final list is [3, 100]\n"
     ]
    }
   ],
   "source": [
    "def check(lst):\n",
    "    final_lst=[lst[0],lst[-1]]\n",
    "    print(f\"The final list is {final_lst}\")\n",
    "\n",
    "lst1=[3,4,8,1,100]\n",
    "check(lst1)\n",
    "    "
   ]
  },
  {
   "cell_type": "markdown",
   "id": "2345a1ed-ad3f-4e93-b596-ef4d7783a09b",
   "metadata": {},
   "source": [
    "### Exercise 4"
   ]
  },
  {
   "cell_type": "markdown",
   "id": "9382d57b-5b68-4070-82dc-30273fee8464",
   "metadata": {},
   "source": [
    "Write a function that takes an ordered list of numbers (a list where the elements are in order from smallest to largest) and another number. The function decides whether or not the given number is inside the list and returns (then prints) an appropriate boolean."
   ]
  },
  {
   "cell_type": "code",
   "execution_count": 10,
   "id": "b6c5ad14-f166-4a1f-adb6-92a320e1bf7e",
   "metadata": {},
   "outputs": [
    {
     "name": "stdin",
     "output_type": "stream",
     "text": [
      "Enter a number to search 12\n"
     ]
    },
    {
     "name": "stdout",
     "output_type": "stream",
     "text": [
      "True\n"
     ]
    }
   ],
   "source": [
    "def isthere (lst,num):\n",
    "    for num in lst:\n",
    "        if num in lst:\n",
    "            res=True\n",
    "        else:\n",
    "           res=False\n",
    "    print(res)\n",
    "\n",
    "lst1=[0,1,2,3,5,9,10,12,14]\n",
    "num=int(input(\"Enter a number to search\"))\n",
    "\n",
    "isthere(lst1,num)"
   ]
  },
  {
   "cell_type": "code",
   "execution_count": null,
   "id": "1267d14b-404f-4ed7-821d-595ab52b7c30",
   "metadata": {},
   "outputs": [],
   "source": []
  }
 ],
 "metadata": {
  "kernelspec": {
   "display_name": "Python 3 (ipykernel)",
   "language": "python",
   "name": "python3"
  },
  "language_info": {
   "codemirror_mode": {
    "name": "ipython",
    "version": 3
   },
   "file_extension": ".py",
   "mimetype": "text/x-python",
   "name": "python",
   "nbconvert_exporter": "python",
   "pygments_lexer": "ipython3",
   "version": "3.13.5"
  }
 },
 "nbformat": 4,
 "nbformat_minor": 5
}
